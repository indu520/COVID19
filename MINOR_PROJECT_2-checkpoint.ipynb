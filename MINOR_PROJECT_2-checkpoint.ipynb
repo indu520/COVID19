{
 "cells": [
  {
   "cell_type": "code",
   "execution_count": 2,
   "metadata": {},
   "outputs": [],
   "source": [
    "from  tkinter import *\n",
    "from tkinter.ttk import Combobox\n",
    "from tkinter import messagebox as mbox\n",
    "from csv import reader"
   ]
  },
  {
   "cell_type": "code",
   "execution_count": 3,
   "metadata": {},
   "outputs": [],
   "source": [
    "tkter=Tk()\n",
    "tkter.geometry(\"800x800\")\n",
    "\n",
    "pic = PhotoImage(file=\"Student.png\")\n",
    "Label(tkter, image=pic ,bg='snow', bd=0).pack()  ##bg=Background, bd : The size of the border"
   ]
  },
  {
   "cell_type": "code",
   "execution_count": 4,
   "metadata": {},
   "outputs": [
    {
     "data": {
      "text/plain": [
       "''"
      ]
     },
     "execution_count": 4,
     "metadata": {},
     "output_type": "execute_result"
    }
   ],
   "source": [
    "# Defining Title to the application\n",
    "tkter.title('Pandemic Analyser Calculator')"
   ]
  },
  {
   "cell_type": "code",
   "execution_count": 5,
   "metadata": {},
   "outputs": [
    {
     "ename": "FileNotFoundError",
     "evalue": "[Errno 2] No such file or directory: 'STATE_DATA.csv'",
     "output_type": "error",
     "traceback": [
      "\u001b[1;31m---------------------------------------------------------------------------\u001b[0m",
      "\u001b[1;31mFileNotFoundError\u001b[0m                         Traceback (most recent call last)",
      "\u001b[1;32m<ipython-input-5-1c0997bd9369>\u001b[0m in \u001b[0;36m<module>\u001b[1;34m\u001b[0m\n\u001b[1;32m----> 1\u001b[1;33m \u001b[1;32mwith\u001b[0m \u001b[0mopen\u001b[0m\u001b[1;33m(\u001b[0m\u001b[1;34m'STATE_DATA.csv'\u001b[0m\u001b[1;33m,\u001b[0m \u001b[1;34m'r'\u001b[0m\u001b[1;33m)\u001b[0m \u001b[1;32mas\u001b[0m \u001b[0mread_obj\u001b[0m\u001b[1;33m:\u001b[0m\u001b[1;33m\u001b[0m\u001b[1;33m\u001b[0m\u001b[0m\n\u001b[0m\u001b[0;32m      2\u001b[0m     \u001b[1;31m# pass the file object to reader() to get the reader object\u001b[0m\u001b[1;33m\u001b[0m\u001b[1;33m\u001b[0m\u001b[1;33m\u001b[0m\u001b[0m\n\u001b[0;32m      3\u001b[0m     \u001b[0mdata\u001b[0m \u001b[1;33m=\u001b[0m \u001b[0mreader\u001b[0m\u001b[1;33m(\u001b[0m\u001b[0mread_obj\u001b[0m\u001b[1;33m)\u001b[0m\u001b[1;33m\u001b[0m\u001b[1;33m\u001b[0m\u001b[0m\n\u001b[0;32m      4\u001b[0m     \u001b[1;31m# Pass reader object to list() to get a list of lists\u001b[0m\u001b[1;33m\u001b[0m\u001b[1;33m\u001b[0m\u001b[1;33m\u001b[0m\u001b[0m\n\u001b[0;32m      5\u001b[0m     \u001b[0mlist_of_rows\u001b[0m \u001b[1;33m=\u001b[0m \u001b[0mlist\u001b[0m\u001b[1;33m(\u001b[0m\u001b[0mdata\u001b[0m\u001b[1;33m)\u001b[0m\u001b[1;33m\u001b[0m\u001b[1;33m\u001b[0m\u001b[0m\n",
      "\u001b[1;31mFileNotFoundError\u001b[0m: [Errno 2] No such file or directory: 'STATE_DATA.csv'"
     ]
    }
   ],
   "source": [
    "with open('COVID_19_STATE_WISE_DATA.csv', 'r') as read_obj:\n",
    "    # pass the file object to reader() to get the reader object\n",
    "    data = reader(read_obj)\n",
    "    # Pass reader object to list() to get a list of lists\n",
    "    list_of_rows = list(data)\n",
    "    "
   ]
  },
  {
   "cell_type": "code",
   "execution_count": 7,
   "metadata": {},
   "outputs": [],
   "source": [
    "#Creating Labels \n",
    "lbl=Label(tkter, text=\"NAME_OF STATE\", bg='snow',fg='black', font=(\"arial\", 16)) #fg = font color\n",
    "lbl.place(x=0, y=30)\n",
    "\n",
    "CONFIRMED=Entry(bg='green yellow')\n",
    "CONFIRMED.place(x=200, y=60,width=150,height=30)\n",
    "\n",
    "lbl1=Label(tkter, text=\"CONFIRMED_CASES:\", fg='green yellow', font=(\"arial\", 16))\n",
    "lbl1.place(x=0, y=60)\n",
    "\n",
    "Active=Entry(bg='SlateBlue2')\n",
    "Active.place(x=200, y=90,width=150,height=30)\n",
    "lbl2=Label(tkter, text=\"ACTIVE_CASES:\", fg='SlateBlue2', font=(\"arial\", 16))\n",
    "lbl2.place(x=0, y=90)\n",
    "\n",
    "Recovered=Entry(bg=\"red\")\n",
    "Recovered.place(x=200, y=120,width=150,height=30)\n",
    "lbl3=Label(tkter, text=\"RECOVERED_CASES:\", fg='red', font=(\"arial\", 16))\n",
    "lbl3.place(x=0, y=120)\n",
    "\n",
    "TOTAL_POPULATION=Entry()\n",
    "TOTAL_POPULATION.place(x=200, y=150,width=150,height=30)\n",
    "lbl4=Label(tkter, text=\"TOTAL_POPULATION:\", font=(\"arial\", 16))\n",
    "lbl4.place(x=0, y=150)\n",
    "\n"
   ]
  },
  {
   "cell_type": "code",
   "execution_count": 8,
   "metadata": {},
   "outputs": [
    {
     "ename": "SyntaxError",
     "evalue": "invalid syntax (<ipython-input-8-f03c9fd282fc>, line 8)",
     "output_type": "error",
     "traceback": [
      "\u001b[1;36m  File \u001b[1;32m\"<ipython-input-8-f03c9fd282fc>\"\u001b[1;36m, line \u001b[1;32m8\u001b[0m\n\u001b[1;33m    print(***********)\u001b[0m\n\u001b[1;37m             ^\u001b[0m\n\u001b[1;31mSyntaxError\u001b[0m\u001b[1;31m:\u001b[0m invalid syntax\n"
     ]
    }
   ],
   "source": [
    "data1=[] #name\n",
    "data2=[] #values corressponding to name\n",
    "#Creating List using Loop\n",
    "for i in range(len(list_of_rows)):\n",
    "    data1.append(list_of_rows[i])\n",
    "    data2.append(data1[i][0])  #data1 is a two dimentional value\n",
    "print(data1)\n",
    "print(***********)\n",
    "print(data2)\n"
   ]
  },
  {
   "cell_type": "code",
   "execution_count": null,
   "metadata": {},
   "outputs": [],
   "source": []
  },
  {
   "cell_type": "code",
   "execution_count": null,
   "metadata": {},
   "outputs": [],
   "source": []
  }
 ],
 "metadata": {
  "kernelspec": {
   "display_name": "Python 3",
   "language": "python",
   "name": "python3"
  },
  "language_info": {
   "codemirror_mode": {
    "name": "ipython",
    "version": 3
   },
   "file_extension": ".py",
   "mimetype": "text/x-python",
   "name": "python",
   "nbconvert_exporter": "python",
   "pygments_lexer": "ipython3",
   "version": "3.7.6"
  }
 },
 "nbformat": 4,
 "nbformat_minor": 4
}
