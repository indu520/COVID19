{
 "cells": [
  {
   "cell_type": "markdown",
   "metadata": {},
   "source": [
    "## Problem Statement\n",
    "The chief minister of the state is wanting to have a detailed overview of COVID 19 in the state for the month of June 2020 to plan the strategy for safeguarding the people of the state."
   ]
  },
  {
   "cell_type": "code",
   "execution_count": 126,
   "metadata": {},
   "outputs": [],
   "source": [
    "# Importing Important Libraries\n",
    "import numpy as np\n",
    "import pandas as pd\n",
    "import matplotlib.pyplot as plt\n",
    "import seaborn as sns"
   ]
  },
  {
   "cell_type": "code",
   "execution_count": 127,
   "metadata": {},
   "outputs": [
    {
     "data": {
      "text/html": [
       "<div>\n",
       "<style scoped>\n",
       "    .dataframe tbody tr th:only-of-type {\n",
       "        vertical-align: middle;\n",
       "    }\n",
       "\n",
       "    .dataframe tbody tr th {\n",
       "        vertical-align: top;\n",
       "    }\n",
       "\n",
       "    .dataframe thead th {\n",
       "        text-align: right;\n",
       "    }\n",
       "</style>\n",
       "<table border=\"1\" class=\"dataframe\">\n",
       "  <thead>\n",
       "    <tr style=\"text-align: right;\">\n",
       "      <th></th>\n",
       "      <th>State</th>\n",
       "      <th>Confirmed</th>\n",
       "      <th>Active</th>\n",
       "      <th>Recovered</th>\n",
       "      <th>Deceased</th>\n",
       "    </tr>\n",
       "  </thead>\n",
       "  <tbody>\n",
       "    <tr>\n",
       "      <th>0</th>\n",
       "      <td>Maharashtra</td>\n",
       "      <td>180298</td>\n",
       "      <td>79091</td>\n",
       "      <td>93154</td>\n",
       "      <td>8053</td>\n",
       "    </tr>\n",
       "    <tr>\n",
       "      <th>1</th>\n",
       "      <td>Tamil Nadu</td>\n",
       "      <td>94049</td>\n",
       "      <td>39859</td>\n",
       "      <td>52926</td>\n",
       "      <td>1264</td>\n",
       "    </tr>\n",
       "    <tr>\n",
       "      <th>2</th>\n",
       "      <td>Delhi</td>\n",
       "      <td>89802</td>\n",
       "      <td>27007</td>\n",
       "      <td>59992</td>\n",
       "      <td>2803</td>\n",
       "    </tr>\n",
       "    <tr>\n",
       "      <th>3</th>\n",
       "      <td>Gujarat</td>\n",
       "      <td>33232</td>\n",
       "      <td>7335</td>\n",
       "      <td>24030</td>\n",
       "      <td>1867</td>\n",
       "    </tr>\n",
       "    <tr>\n",
       "      <th>4</th>\n",
       "      <td>Uttar Pradesh</td>\n",
       "      <td>24056</td>\n",
       "      <td>6709</td>\n",
       "      <td>16629</td>\n",
       "      <td>718</td>\n",
       "    </tr>\n",
       "  </tbody>\n",
       "</table>\n",
       "</div>"
      ],
      "text/plain": [
       "           State  Confirmed  Active  Recovered  Deceased\n",
       "0    Maharashtra     180298   79091      93154      8053\n",
       "1     Tamil Nadu      94049   39859      52926      1264\n",
       "2          Delhi      89802   27007      59992      2803\n",
       "3        Gujarat      33232    7335      24030      1867\n",
       "4  Uttar Pradesh      24056    6709      16629       718"
      ]
     },
     "execution_count": 127,
     "metadata": {},
     "output_type": "execute_result"
    }
   ],
   "source": [
    "df = pd.read_csv('STATE_WISE_COVID_DATA_JUNE.csv')\n",
    "df.head()"
   ]
  },
  {
   "cell_type": "code",
   "execution_count": 128,
   "metadata": {},
   "outputs": [
    {
     "name": "stdout",
     "output_type": "stream",
     "text": [
      "<class 'pandas.core.frame.DataFrame'>\n",
      "RangeIndex: 37 entries, 0 to 36\n",
      "Data columns (total 5 columns):\n",
      " #   Column     Non-Null Count  Dtype \n",
      "---  ------     --------------  ----- \n",
      " 0   State      37 non-null     object\n",
      " 1   Confirmed  37 non-null     int64 \n",
      " 2   Active     37 non-null     int64 \n",
      " 3   Recovered  37 non-null     int64 \n",
      " 4   Deceased   37 non-null     int64 \n",
      "dtypes: int64(4), object(1)\n",
      "memory usage: 1.6+ KB\n"
     ]
    }
   ],
   "source": [
    "df.info()"
   ]
  },
  {
   "cell_type": "code",
   "execution_count": 129,
   "metadata": {},
   "outputs": [
    {
     "data": {
      "text/html": [
       "<div>\n",
       "<style scoped>\n",
       "    .dataframe tbody tr th:only-of-type {\n",
       "        vertical-align: middle;\n",
       "    }\n",
       "\n",
       "    .dataframe tbody tr th {\n",
       "        vertical-align: top;\n",
       "    }\n",
       "\n",
       "    .dataframe thead th {\n",
       "        text-align: right;\n",
       "    }\n",
       "</style>\n",
       "<table border=\"1\" class=\"dataframe\">\n",
       "  <thead>\n",
       "    <tr style=\"text-align: right;\">\n",
       "      <th></th>\n",
       "      <th>Confirmed</th>\n",
       "      <th>Active</th>\n",
       "      <th>Recovered</th>\n",
       "      <th>Deceased</th>\n",
       "    </tr>\n",
       "  </thead>\n",
       "  <tbody>\n",
       "    <tr>\n",
       "      <th>count</th>\n",
       "      <td>37.000000</td>\n",
       "      <td>37.000000</td>\n",
       "      <td>37.000000</td>\n",
       "      <td>37.000000</td>\n",
       "    </tr>\n",
       "    <tr>\n",
       "      <th>mean</th>\n",
       "      <td>16162.810811</td>\n",
       "      <td>5952.540541</td>\n",
       "      <td>9728.270270</td>\n",
       "      <td>482.000000</td>\n",
       "    </tr>\n",
       "    <tr>\n",
       "      <th>std</th>\n",
       "      <td>34855.217695</td>\n",
       "      <td>14605.370425</td>\n",
       "      <td>19286.208767</td>\n",
       "      <td>1404.000732</td>\n",
       "    </tr>\n",
       "    <tr>\n",
       "      <th>min</th>\n",
       "      <td>0.000000</td>\n",
       "      <td>0.000000</td>\n",
       "      <td>0.000000</td>\n",
       "      <td>0.000000</td>\n",
       "    </tr>\n",
       "    <tr>\n",
       "      <th>25%</th>\n",
       "      <td>459.000000</td>\n",
       "      <td>291.000000</td>\n",
       "      <td>272.000000</td>\n",
       "      <td>1.000000</td>\n",
       "    </tr>\n",
       "    <tr>\n",
       "      <th>50%</th>\n",
       "      <td>2947.000000</td>\n",
       "      <td>713.000000</td>\n",
       "      <td>2317.000000</td>\n",
       "      <td>15.000000</td>\n",
       "    </tr>\n",
       "    <tr>\n",
       "      <th>75%</th>\n",
       "      <td>15252.000000</td>\n",
       "      <td>4202.000000</td>\n",
       "      <td>8082.000000</td>\n",
       "      <td>253.000000</td>\n",
       "    </tr>\n",
       "    <tr>\n",
       "      <th>max</th>\n",
       "      <td>180298.000000</td>\n",
       "      <td>79091.000000</td>\n",
       "      <td>93154.000000</td>\n",
       "      <td>8053.000000</td>\n",
       "    </tr>\n",
       "  </tbody>\n",
       "</table>\n",
       "</div>"
      ],
      "text/plain": [
       "           Confirmed        Active     Recovered     Deceased\n",
       "count      37.000000     37.000000     37.000000    37.000000\n",
       "mean    16162.810811   5952.540541   9728.270270   482.000000\n",
       "std     34855.217695  14605.370425  19286.208767  1404.000732\n",
       "min         0.000000      0.000000      0.000000     0.000000\n",
       "25%       459.000000    291.000000    272.000000     1.000000\n",
       "50%      2947.000000    713.000000   2317.000000    15.000000\n",
       "75%     15252.000000   4202.000000   8082.000000   253.000000\n",
       "max    180298.000000  79091.000000  93154.000000  8053.000000"
      ]
     },
     "execution_count": 129,
     "metadata": {},
     "output_type": "execute_result"
    }
   ],
   "source": [
    "df.describe()"
   ]
  },
  {
   "cell_type": "code",
   "execution_count": 130,
   "metadata": {},
   "outputs": [],
   "source": [
    "adf = df[df['State'] == 'Karnataka']\n",
    "adf\n",
    "adf.set_index('State', inplace = True)"
   ]
  },
  {
   "cell_type": "code",
   "execution_count": 131,
   "metadata": {},
   "outputs": [
    {
     "name": "stdout",
     "output_type": "stream",
     "text": [
      "State\n",
      "Karnataka    3186.956522\n",
      "dtype: float64\n"
     ]
    }
   ],
   "source": [
    "IFR_STATE=(adf['Recovered']/adf['Deceased'])*100\n",
    "print(IFR_STATE)"
   ]
  },
  {
   "cell_type": "code",
   "execution_count": 132,
   "metadata": {},
   "outputs": [
    {
     "data": {
      "image/png": "[encoded data removed]",
      "text/plain": [
       "<Figure size 1296x1296 with 1 Axes>"
      ]
     },
     "metadata": {
      "needs_background": "light"
     },
     "output_type": "display_data"
    }
   ],
   "source": [
    "plt.figure(figsize=(18, 18))\n",
    "plt.plot(df.State,df.Confirmed,color=\"red\",label='Confirmed Cases')\n",
    "plt.plot(df.State,df.Recovered,color=\"navy\",label='Cured Cases')\n",
    "plt.plot(df.State,df.Deceased,color=\"orange\",label='Death Cases')\n",
    "plt.plot(df.State,df.Active,color=\"black\",label='Active Cases')\n",
    "plt.legend()\n",
    "plt.bar(df.State,df.Confirmed,label='Confirmed Cases',color='lightskyblue')\n",
    "plt.bar(df.State,df.Recovered,color=\"palegreen\",label='Cured Cases')\n",
    "plt.bar(df.State,df.Deceased,color=\"blue\",label='Death Cases')\n",
    "plt.bar(df.State,df.Active,color=\"pink\",label='Active Cases')\n",
    "plt.title(\"COVID-19 STATE ANALYSIS:JUNE 2020\")\n",
    "plt.xticks(df.State,rotation=90)\n",
    "plt.xlabel(\"State\",labelpad=10)\n",
    "plt.ylabel(\"Number of Cases\",labelpad=10)\n",
    "plt.show()"
   ]
  },
  {
   "cell_type": "code",
   "execution_count": 133,
   "metadata": {},
   "outputs": [],
   "source": [
    "df.set_index('State', inplace = True)"
   ]
  },
  {
   "cell_type": "code",
   "execution_count": 139,
   "metadata": {},
   "outputs": [
    {
     "data": {
      "text/html": [
       "<div>\n",
       "<style scoped>\n",
       "    .dataframe tbody tr th:only-of-type {\n",
       "        vertical-align: middle;\n",
       "    }\n",
       "\n",
       "    .dataframe tbody tr th {\n",
       "        vertical-align: top;\n",
       "    }\n",
       "\n",
       "    .dataframe thead th {\n",
       "        text-align: right;\n",
       "    }\n",
       "</style>\n",
       "<table border=\"1\" class=\"dataframe\">\n",
       "  <thead>\n",
       "    <tr style=\"text-align: right;\">\n",
       "      <th></th>\n",
       "      <th>Confirmed</th>\n",
       "      <th>Active</th>\n",
       "      <th>Recovered</th>\n",
       "      <th>Deceased</th>\n",
       "    </tr>\n",
       "    <tr>\n",
       "      <th>State</th>\n",
       "      <th></th>\n",
       "      <th></th>\n",
       "      <th></th>\n",
       "      <th></th>\n",
       "    </tr>\n",
       "  </thead>\n",
       "  <tbody>\n",
       "    <tr>\n",
       "      <th>Maharashtra</th>\n",
       "      <td>180298</td>\n",
       "      <td>79091</td>\n",
       "      <td>93154</td>\n",
       "      <td>8053</td>\n",
       "    </tr>\n",
       "    <tr>\n",
       "      <th>Karnataka</th>\n",
       "      <td>16514</td>\n",
       "      <td>8198</td>\n",
       "      <td>8063</td>\n",
       "      <td>253</td>\n",
       "    </tr>\n",
       "    <tr>\n",
       "      <th>Andhra Pradesh</th>\n",
       "      <td>15252</td>\n",
       "      <td>8071</td>\n",
       "      <td>6988</td>\n",
       "      <td>193</td>\n",
       "    </tr>\n",
       "    <tr>\n",
       "      <th>Kerala</th>\n",
       "      <td>4593</td>\n",
       "      <td>2130</td>\n",
       "      <td>2439</td>\n",
       "      <td>24</td>\n",
       "    </tr>\n",
       "    <tr>\n",
       "      <th>Tamil Nadu</th>\n",
       "      <td>94049</td>\n",
       "      <td>39859</td>\n",
       "      <td>52926</td>\n",
       "      <td>1264</td>\n",
       "    </tr>\n",
       "  </tbody>\n",
       "</table>\n",
       "</div>"
      ],
      "text/plain": [
       "                Confirmed  Active  Recovered  Deceased\n",
       "State                                                 \n",
       "Maharashtra        180298   79091      93154      8053\n",
       "Karnataka           16514    8198       8063       253\n",
       "Andhra Pradesh      15252    8071       6988       193\n",
       "Kerala               4593    2130       2439        24\n",
       "Tamil Nadu          94049   39859      52926      1264"
      ]
     },
     "execution_count": 139,
     "metadata": {},
     "output_type": "execute_result"
    }
   ],
   "source": [
    "nbs = ['Maharashtra', 'Karnataka', 'Andhra Pradesh', 'Kerala', 'Tamil Nadu']\n",
    "anbs = df.loc[nbs]\n",
    "anbs.head()"
   ]
  },
  {
   "cell_type": "code",
   "execution_count": 140,
   "metadata": {},
   "outputs": [
    {
     "data": {
      "text/html": [
       "<div>\n",
       "<style scoped>\n",
       "    .dataframe tbody tr th:only-of-type {\n",
       "        vertical-align: middle;\n",
       "    }\n",
       "\n",
       "    .dataframe tbody tr th {\n",
       "        vertical-align: top;\n",
       "    }\n",
       "\n",
       "    .dataframe thead th {\n",
       "        text-align: right;\n",
       "    }\n",
       "</style>\n",
       "<table border=\"1\" class=\"dataframe\">\n",
       "  <thead>\n",
       "    <tr style=\"text-align: right;\">\n",
       "      <th></th>\n",
       "      <th>State</th>\n",
       "      <th>Confirmed</th>\n",
       "      <th>Active</th>\n",
       "      <th>Recovered</th>\n",
       "      <th>Deceased</th>\n",
       "    </tr>\n",
       "  </thead>\n",
       "  <tbody>\n",
       "    <tr>\n",
       "      <th>0</th>\n",
       "      <td>Maharashtra</td>\n",
       "      <td>180298</td>\n",
       "      <td>79091</td>\n",
       "      <td>93154</td>\n",
       "      <td>8053</td>\n",
       "    </tr>\n",
       "    <tr>\n",
       "      <th>1</th>\n",
       "      <td>Karnataka</td>\n",
       "      <td>16514</td>\n",
       "      <td>8198</td>\n",
       "      <td>8063</td>\n",
       "      <td>253</td>\n",
       "    </tr>\n",
       "    <tr>\n",
       "      <th>2</th>\n",
       "      <td>Andhra Pradesh</td>\n",
       "      <td>15252</td>\n",
       "      <td>8071</td>\n",
       "      <td>6988</td>\n",
       "      <td>193</td>\n",
       "    </tr>\n",
       "    <tr>\n",
       "      <th>3</th>\n",
       "      <td>Kerala</td>\n",
       "      <td>4593</td>\n",
       "      <td>2130</td>\n",
       "      <td>2439</td>\n",
       "      <td>24</td>\n",
       "    </tr>\n",
       "    <tr>\n",
       "      <th>4</th>\n",
       "      <td>Tamil Nadu</td>\n",
       "      <td>94049</td>\n",
       "      <td>39859</td>\n",
       "      <td>52926</td>\n",
       "      <td>1264</td>\n",
       "    </tr>\n",
       "  </tbody>\n",
       "</table>\n",
       "</div>"
      ],
      "text/plain": [
       "            State  Confirmed  Active  Recovered  Deceased\n",
       "0     Maharashtra     180298   79091      93154      8053\n",
       "1       Karnataka      16514    8198       8063       253\n",
       "2  Andhra Pradesh      15252    8071       6988       193\n",
       "3          Kerala       4593    2130       2439        24\n",
       "4      Tamil Nadu      94049   39859      52926      1264"
      ]
     },
     "execution_count": 140,
     "metadata": {},
     "output_type": "execute_result"
    }
   ],
   "source": [
    "anbs.reset_index(inplace = True)\n",
    "anbs.head()"
   ]
  },
  {
   "cell_type": "code",
   "execution_count": 141,
   "metadata": {},
   "outputs": [
    {
     "data": {
      "image/png": "[encoded data removed]",
      "text/plain": [
       "<Figure size 432x288 with 1 Axes>"
      ]
     },
     "metadata": {
      "needs_background": "light"
     },
     "output_type": "display_data"
    }
   ],
   "source": [
    "\n",
    "anbs.plot.bar(y=['Recovered','Deceased','Confirmed'], x = 'State' , rot = 60);\n",
    "plt.ylabel('Cases')\n",
    "plt.title(\"Covid-19 insights of Karnataka and Neighbouring States\")\n",
    "plt.savefig('x.png')"
   ]
  },
  {
   "cell_type": "code",
   "execution_count": 142,
   "metadata": {},
   "outputs": [
    {
     "name": "stdout",
     "output_type": "stream",
     "text": [
      "0     1156.761455\n",
      "1     3186.956522\n",
      "2     3620.725389\n",
      "3    10162.500000\n",
      "4     4187.183544\n",
      "dtype: float64\n",
      "State\n",
      "Maharashtra               1.156761e+03\n",
      "Tamil Nadu                4.187184e+03\n",
      "Delhi                     2.140278e+03\n",
      "Gujarat                   1.287092e+03\n",
      "Uttar Pradesh             2.316017e+03\n",
      "West Bengal               1.834261e+03\n",
      "Rajasthan                 3.461758e+03\n",
      "Telengana                 3.026966e+03\n",
      "Karnataka                 3.186957e+03\n",
      "Andhra Pradesh            3.620725e+03\n",
      "Haryana                   4.374583e+03\n",
      "Madhya Pradesh            1.833907e+03\n",
      "Bihar                     1.135143e+04\n",
      "Assam                     4.875833e+04\n",
      "Jammu and Kashmir         4.624762e+03\n",
      "Odisha                    2.141200e+04\n",
      "Punjab                    2.595302e+03\n",
      "Kerala                    1.016250e+04\n",
      "Uttarakhand               5.651220e+03\n",
      "Chhattisgarh              1.645000e+04\n",
      "Jharkhand                 1.287333e+04\n",
      "Tripura                   1.093000e+05\n",
      "Goa                       1.675000e+04\n",
      "Manipur                            inf\n",
      "Ladakh                    6.940000e+04\n",
      "Himachal Pradesh          6.140000e+03\n",
      "Puducherry                2.266667e+03\n",
      "Nagaland                           inf\n",
      "Chandigarh                6.116667e+03\n",
      "Dadra and Nagar Haveli             inf\n",
      "Dadra and Nagar Haveli             inf\n",
      "Arunachal Pradesh         6.600000e+03\n",
      "Mizoram                            inf\n",
      "Sikkim                             inf\n",
      "Andaman and Nicobar                inf\n",
      "Meghalaya                 4.200000e+03\n",
      "Lakshadweep                        NaN\n",
      "dtype: float64\n"
     ]
    }
   ],
   "source": [
    "IFR_anbs = (anbs['Recovered']/anbs['Deceased'])*100\n",
    "IFR_STATE = (df['Recovered']/df['Deceased'])*100\n",
    "print(IFR_anbs)\n",
    "print(IFR_STATE)"
   ]
  },
  {
   "cell_type": "code",
   "execution_count": 143,
   "metadata": {},
   "outputs": [
    {
     "data": {
      "image/png": "[encoded data removed]",
      "text/plain": [
       "<Figure size 576x576 with 1 Axes>"
      ]
     },
     "metadata": {
      "needs_background": "light"
     },
     "output_type": "display_data"
    },
    {
     "data": {
      "text/plain": [
       "<Figure size 432x288 with 0 Axes>"
      ]
     },
     "metadata": {},
     "output_type": "display_data"
    }
   ],
   "source": [
    "plt.figure(figsize=(8, 8))\n",
    "plt.bar(anbs.State,IFR_anbs,label='Confirmed Cases',color='lightskyblue')\n",
    "plt.bar(anbs.State,anbs.Deceased,color=\"black\",label='Death Cases')\n",
    "plt.title(\"COVID-19 STATE ANALYSIS:JUNE 2020\")\n",
    "plt.xticks(anbs.State,rotation=30)\n",
    "plt.xlabel(\"State\",labelpad=10)\n",
    "plt.ylabel(\"IFR\",labelpad=10)\n",
    "plt.show();\n",
    "plt.savefig('IFR_score.png')"
   ]
  },
  {
   "cell_type": "code",
   "execution_count": 146,
   "metadata": {},
   "outputs": [],
   "source": [
    "df.reset_index(inplace = True)"
   ]
  },
  {
   "cell_type": "code",
   "execution_count": 147,
   "metadata": {},
   "outputs": [
    {
     "data": {
      "text/html": [
       "<div>\n",
       "<style scoped>\n",
       "    .dataframe tbody tr th:only-of-type {\n",
       "        vertical-align: middle;\n",
       "    }\n",
       "\n",
       "    .dataframe tbody tr th {\n",
       "        vertical-align: top;\n",
       "    }\n",
       "\n",
       "    .dataframe thead th {\n",
       "        text-align: right;\n",
       "    }\n",
       "</style>\n",
       "<table border=\"1\" class=\"dataframe\">\n",
       "  <thead>\n",
       "    <tr style=\"text-align: right;\">\n",
       "      <th></th>\n",
       "      <th>State</th>\n",
       "      <th>Confirmed</th>\n",
       "      <th>Active</th>\n",
       "      <th>Recovered</th>\n",
       "      <th>Deceased</th>\n",
       "    </tr>\n",
       "  </thead>\n",
       "  <tbody>\n",
       "    <tr>\n",
       "      <th>0</th>\n",
       "      <td>Maharashtra</td>\n",
       "      <td>180298</td>\n",
       "      <td>79091</td>\n",
       "      <td>93154</td>\n",
       "      <td>8053</td>\n",
       "    </tr>\n",
       "    <tr>\n",
       "      <th>1</th>\n",
       "      <td>Tamil Nadu</td>\n",
       "      <td>94049</td>\n",
       "      <td>39859</td>\n",
       "      <td>52926</td>\n",
       "      <td>1264</td>\n",
       "    </tr>\n",
       "    <tr>\n",
       "      <th>2</th>\n",
       "      <td>Delhi</td>\n",
       "      <td>89802</td>\n",
       "      <td>27007</td>\n",
       "      <td>59992</td>\n",
       "      <td>2803</td>\n",
       "    </tr>\n",
       "    <tr>\n",
       "      <th>3</th>\n",
       "      <td>Gujarat</td>\n",
       "      <td>33232</td>\n",
       "      <td>7335</td>\n",
       "      <td>24030</td>\n",
       "      <td>1867</td>\n",
       "    </tr>\n",
       "    <tr>\n",
       "      <th>4</th>\n",
       "      <td>Uttar Pradesh</td>\n",
       "      <td>24056</td>\n",
       "      <td>6709</td>\n",
       "      <td>16629</td>\n",
       "      <td>718</td>\n",
       "    </tr>\n",
       "  </tbody>\n",
       "</table>\n",
       "</div>"
      ],
      "text/plain": [
       "           State  Confirmed  Active  Recovered  Deceased\n",
       "0    Maharashtra     180298   79091      93154      8053\n",
       "1     Tamil Nadu      94049   39859      52926      1264\n",
       "2          Delhi      89802   27007      59992      2803\n",
       "3        Gujarat      33232    7335      24030      1867\n",
       "4  Uttar Pradesh      24056    6709      16629       718"
      ]
     },
     "execution_count": 147,
     "metadata": {},
     "output_type": "execute_result"
    }
   ],
   "source": [
    "df.head()"
   ]
  },
  {
   "cell_type": "code",
   "execution_count": 148,
   "metadata": {},
   "outputs": [
    {
     "data": {
      "image/png": "[encoded data removed]",
      "text/plain": [
       "<Figure size 720x720 with 1 Axes>"
      ]
     },
     "metadata": {
      "needs_background": "light"
     },
     "output_type": "display_data"
    }
   ],
   "source": [
    "plt.figure(figsize=(10, 10))\n",
    "plt.bar(df.State,IFR_STATE,label='Confirmed Cases',color='lightskyblue')\n",
    "plt.bar(df.State,df.Deceased,color=\"black\",label='Death Cases')\n",
    "plt.title(\"COVID-19 STATE ANALYSIS:JUNE 2020\")\n",
    "plt.xticks(df.State,rotation=90)\n",
    "plt.xlabel(\"State\",labelpad=10)\n",
    "plt.ylabel(\"IFR\",labelpad=10)\n",
    "plt.show()"
   ]
  },
  {
   "cell_type": "code",
   "execution_count": 149,
   "metadata": {},
   "outputs": [
    {
     "data": {
      "text/html": [
       "<div>\n",
       "<style scoped>\n",
       "    .dataframe tbody tr th:only-of-type {\n",
       "        vertical-align: middle;\n",
       "    }\n",
       "\n",
       "    .dataframe tbody tr th {\n",
       "        vertical-align: top;\n",
       "    }\n",
       "\n",
       "    .dataframe thead th {\n",
       "        text-align: right;\n",
       "    }\n",
       "</style>\n",
       "<table border=\"1\" class=\"dataframe\">\n",
       "  <thead>\n",
       "    <tr style=\"text-align: right;\">\n",
       "      <th></th>\n",
       "      <th>State</th>\n",
       "      <th>Confirmed</th>\n",
       "      <th>Recovered</th>\n",
       "      <th>Deaths</th>\n",
       "      <th>Active</th>\n",
       "      <th>Last_Updated_Time</th>\n",
       "      <th>Migrated_Other</th>\n",
       "      <th>State_code</th>\n",
       "      <th>Delta_Confirmed</th>\n",
       "      <th>Delta_Recovered</th>\n",
       "      <th>Delta_Deaths</th>\n",
       "      <th>State_Notes</th>\n",
       "    </tr>\n",
       "  </thead>\n",
       "  <tbody>\n",
       "    <tr>\n",
       "      <th>0</th>\n",
       "      <td>Total</td>\n",
       "      <td>649586</td>\n",
       "      <td>394390</td>\n",
       "      <td>18677</td>\n",
       "      <td>236453</td>\n",
       "      <td>2020-04-07 11:37:25</td>\n",
       "      <td>66</td>\n",
       "      <td>TT</td>\n",
       "      <td>-303</td>\n",
       "      <td>71</td>\n",
       "      <td>8</td>\n",
       "      <td>NaN</td>\n",
       "    </tr>\n",
       "    <tr>\n",
       "      <th>1</th>\n",
       "      <td>Maharashtra</td>\n",
       "      <td>192990</td>\n",
       "      <td>104687</td>\n",
       "      <td>8376</td>\n",
       "      <td>79911</td>\n",
       "      <td>2020-03-07 22:43:26</td>\n",
       "      <td>16</td>\n",
       "      <td>MH</td>\n",
       "      <td>0</td>\n",
       "      <td>0</td>\n",
       "      <td>0</td>\n",
       "      <td>16 cases were marked as non-covid deaths in MH...</td>\n",
       "    </tr>\n",
       "    <tr>\n",
       "      <th>2</th>\n",
       "      <td>Tamil Nadu</td>\n",
       "      <td>102721</td>\n",
       "      <td>58378</td>\n",
       "      <td>1385</td>\n",
       "      <td>42958</td>\n",
       "      <td>2020-03-07 18:47:28</td>\n",
       "      <td>0</td>\n",
       "      <td>TN</td>\n",
       "      <td>0</td>\n",
       "      <td>0</td>\n",
       "      <td>0</td>\n",
       "      <td>2 deaths cross notified to other states from C...</td>\n",
       "    </tr>\n",
       "    <tr>\n",
       "      <th>3</th>\n",
       "      <td>Delhi</td>\n",
       "      <td>94695</td>\n",
       "      <td>65624</td>\n",
       "      <td>2923</td>\n",
       "      <td>26148</td>\n",
       "      <td>2020-03-07 21:49:28</td>\n",
       "      <td>0</td>\n",
       "      <td>DL</td>\n",
       "      <td>0</td>\n",
       "      <td>0</td>\n",
       "      <td>0</td>\n",
       "      <td>Delhi bulletins in the morning, containing dat...</td>\n",
       "    </tr>\n",
       "    <tr>\n",
       "      <th>4</th>\n",
       "      <td>Gujarat</td>\n",
       "      <td>34686</td>\n",
       "      <td>24941</td>\n",
       "      <td>1905</td>\n",
       "      <td>7840</td>\n",
       "      <td>2020-03-07 20:38:27</td>\n",
       "      <td>0</td>\n",
       "      <td>GJ</td>\n",
       "      <td>0</td>\n",
       "      <td>0</td>\n",
       "      <td>0</td>\n",
       "      <td>NaN</td>\n",
       "    </tr>\n",
       "  </tbody>\n",
       "</table>\n",
       "</div>"
      ],
      "text/plain": [
       "         State  Confirmed  Recovered  Deaths  Active    Last_Updated_Time  \\\n",
       "0        Total     649586     394390   18677  236453  2020-04-07 11:37:25   \n",
       "1  Maharashtra     192990     104687    8376   79911  2020-03-07 22:43:26   \n",
       "2   Tamil Nadu     102721      58378    1385   42958  2020-03-07 18:47:28   \n",
       "3        Delhi      94695      65624    2923   26148  2020-03-07 21:49:28   \n",
       "4      Gujarat      34686      24941    1905    7840  2020-03-07 20:38:27   \n",
       "\n",
       "   Migrated_Other State_code  Delta_Confirmed  Delta_Recovered  Delta_Deaths  \\\n",
       "0              66         TT             -303               71             8   \n",
       "1              16         MH                0                0             0   \n",
       "2               0         TN                0                0             0   \n",
       "3               0         DL                0                0             0   \n",
       "4               0         GJ                0                0             0   \n",
       "\n",
       "                                         State_Notes  \n",
       "0                                                NaN  \n",
       "1  16 cases were marked as non-covid deaths in MH...  \n",
       "2  2 deaths cross notified to other states from C...  \n",
       "3  Delhi bulletins in the morning, containing dat...  \n",
       "4                                                NaN  "
      ]
     },
     "execution_count": 149,
     "metadata": {},
     "output_type": "execute_result"
    }
   ],
   "source": [
    "new_df = pd.read_excel('COVID_19_STATE_WISE_DATA.xlsx')\n",
    "new_df.head()"
   ]
  },
  {
   "cell_type": "code",
   "execution_count": 150,
   "metadata": {},
   "outputs": [
    {
     "data": {
      "text/html": [
       "<div>\n",
       "<style scoped>\n",
       "    .dataframe tbody tr th:only-of-type {\n",
       "        vertical-align: middle;\n",
       "    }\n",
       "\n",
       "    .dataframe tbody tr th {\n",
       "        vertical-align: top;\n",
       "    }\n",
       "\n",
       "    .dataframe thead th {\n",
       "        text-align: right;\n",
       "    }\n",
       "</style>\n",
       "<table border=\"1\" class=\"dataframe\">\n",
       "  <thead>\n",
       "    <tr style=\"text-align: right;\">\n",
       "      <th></th>\n",
       "      <th>State</th>\n",
       "      <th>Confirmed</th>\n",
       "      <th>Recovered</th>\n",
       "      <th>Deaths</th>\n",
       "      <th>Active</th>\n",
       "      <th>Last_Updated_Time</th>\n",
       "      <th>Migrated_Other</th>\n",
       "      <th>State_code</th>\n",
       "      <th>Delta_Confirmed</th>\n",
       "      <th>Delta_Recovered</th>\n",
       "      <th>Delta_Deaths</th>\n",
       "      <th>State_Notes</th>\n",
       "    </tr>\n",
       "  </thead>\n",
       "  <tbody>\n",
       "    <tr>\n",
       "      <th>11</th>\n",
       "      <td>Karnataka</td>\n",
       "      <td>19710</td>\n",
       "      <td>8807</td>\n",
       "      <td>293</td>\n",
       "      <td>10606</td>\n",
       "      <td>2020-03-07 20:38:31</td>\n",
       "      <td>4</td>\n",
       "      <td>KA</td>\n",
       "      <td>0</td>\n",
       "      <td>0</td>\n",
       "      <td>0</td>\n",
       "      <td>4 cases are classified as non-covid related de...</td>\n",
       "    </tr>\n",
       "  </tbody>\n",
       "</table>\n",
       "</div>"
      ],
      "text/plain": [
       "        State  Confirmed  Recovered  Deaths  Active    Last_Updated_Time  \\\n",
       "11  Karnataka      19710       8807     293   10606  2020-03-07 20:38:31   \n",
       "\n",
       "    Migrated_Other State_code  Delta_Confirmed  Delta_Recovered  Delta_Deaths  \\\n",
       "11               4         KA                0                0             0   \n",
       "\n",
       "                                          State_Notes  \n",
       "11  4 cases are classified as non-covid related de...  "
      ]
     },
     "execution_count": 150,
     "metadata": {},
     "output_type": "execute_result"
    }
   ],
   "source": [
    "our_state = new_df[new_df['State'] == 'Karnataka']\n",
    "our_state.head()"
   ]
  },
  {
   "cell_type": "code",
   "execution_count": 151,
   "metadata": {},
   "outputs": [
    {
     "data": {
      "image/png": "[encoded data removed]",
      "text/plain": [
       "<Figure size 576x576 with 1 Axes>"
      ]
     },
     "metadata": {
      "needs_background": "light"
     },
     "output_type": "display_data"
    }
   ],
   "source": [
    "plt.figure(figsize = (8,8))\n",
    "plt.barh(anbs.State, IFR_anbs, color = 'yellowgreen');"
   ]
  },
  {
   "cell_type": "code",
   "execution_count": 155,
   "metadata": {},
   "outputs": [
    {
     "name": "stderr",
     "output_type": "stream",
     "text": [
      "/home/yogesh/anaconda3/lib/python3.7/site-packages/ipykernel_launcher.py:5: MatplotlibDeprecationWarning: Non-1D inputs to pie() are currently squeeze()d, but this behavior is deprecated since 3.1 and will be removed in 3.3; pass a 1D array instead.\n",
      "  \"\"\"\n"
     ]
    },
    {
     "data": {
      "image/png": "[encoded data removed]",
      "text/plain": [
       "<Figure size 432x288 with 1 Axes>"
      ]
     },
     "metadata": {},
     "output_type": "display_data"
    },
    {
     "data": {
      "text/plain": [
       "<Figure size 432x288 with 0 Axes>"
      ]
     },
     "metadata": {},
     "output_type": "display_data"
    }
   ],
   "source": [
    "labels = ['Recovered', 'Deaths', 'Active']\n",
    "sizes = our_state[labels]\n",
    "colors = ['yellowgreen', 'lightcoral', 'lightskyblue']\n",
    "explode = (0.1, 0.1, 0.1) \n",
    "plt.pie(sizes, explode = explode, labels=labels, colors=colors, autopct='%1.1f%%', shadow=True)\n",
    "plt.axis('equal')\n",
    "plt.legend()\n",
    "plt.title('Total Confirmed Cases : 19710')\n",
    "plt.show();\n",
    "plt.savefig('pie_chart.png')"
   ]
  },
  {
   "cell_type": "code",
   "execution_count": 156,
   "metadata": {},
   "outputs": [
    {
     "data": {
      "text/html": [
       "<div>\n",
       "<style scoped>\n",
       "    .dataframe tbody tr th:only-of-type {\n",
       "        vertical-align: middle;\n",
       "    }\n",
       "\n",
       "    .dataframe tbody tr th {\n",
       "        vertical-align: top;\n",
       "    }\n",
       "\n",
       "    .dataframe thead th {\n",
       "        text-align: right;\n",
       "    }\n",
       "</style>\n",
       "<table border=\"1\" class=\"dataframe\">\n",
       "  <thead>\n",
       "    <tr style=\"text-align: right;\">\n",
       "      <th></th>\n",
       "      <th>Date</th>\n",
       "      <th>State</th>\n",
       "      <th>TotalSamples</th>\n",
       "      <th>Negative</th>\n",
       "      <th>Positive</th>\n",
       "    </tr>\n",
       "  </thead>\n",
       "  <tbody>\n",
       "    <tr>\n",
       "      <th>1820</th>\n",
       "      <td>2020-04-05</td>\n",
       "      <td>Maharashtra</td>\n",
       "      <td>16008.0</td>\n",
       "      <td>14837</td>\n",
       "      <td>NaN</td>\n",
       "    </tr>\n",
       "    <tr>\n",
       "      <th>1821</th>\n",
       "      <td>2020-04-06</td>\n",
       "      <td>Maharashtra</td>\n",
       "      <td>17563.0</td>\n",
       "      <td>15808</td>\n",
       "      <td>868.0</td>\n",
       "    </tr>\n",
       "    <tr>\n",
       "      <th>1822</th>\n",
       "      <td>2020-04-07</td>\n",
       "      <td>Maharashtra</td>\n",
       "      <td>20877.0</td>\n",
       "      <td>19290</td>\n",
       "      <td>1018.0</td>\n",
       "    </tr>\n",
       "    <tr>\n",
       "      <th>1823</th>\n",
       "      <td>2020-04-09</td>\n",
       "      <td>Maharashtra</td>\n",
       "      <td>20877.0</td>\n",
       "      <td>19290</td>\n",
       "      <td>868.0</td>\n",
       "    </tr>\n",
       "    <tr>\n",
       "      <th>1824</th>\n",
       "      <td>2020-04-10</td>\n",
       "      <td>Maharashtra</td>\n",
       "      <td>30000.0</td>\n",
       "      <td>28865</td>\n",
       "      <td>1135.0</td>\n",
       "    </tr>\n",
       "  </tbody>\n",
       "</table>\n",
       "</div>"
      ],
      "text/plain": [
       "           Date        State  TotalSamples Negative  Positive\n",
       "1820 2020-04-05  Maharashtra       16008.0    14837       NaN\n",
       "1821 2020-04-06  Maharashtra       17563.0    15808     868.0\n",
       "1822 2020-04-07  Maharashtra       20877.0    19290    1018.0\n",
       "1823 2020-04-09  Maharashtra       20877.0    19290     868.0\n",
       "1824 2020-04-10  Maharashtra       30000.0    28865    1135.0"
      ]
     },
     "execution_count": 156,
     "metadata": {},
     "output_type": "execute_result"
    }
   ],
   "source": [
    "new_df = pd.read_csv('StatewiseTestingDetails.csv', parse_dates = [0], dayfirst = True)\n",
    "a_neighbours = new_df.copy()\n",
    "new_df = new_df[new_df['State'] == 'Maharashtra']\n",
    "new_df.head()"
   ]
  },
  {
   "cell_type": "code",
   "execution_count": 191,
   "metadata": {},
   "outputs": [
    {
     "data": {
      "text/html": [
       "<div>\n",
       "<style scoped>\n",
       "    .dataframe tbody tr th:only-of-type {\n",
       "        vertical-align: middle;\n",
       "    }\n",
       "\n",
       "    .dataframe tbody tr th {\n",
       "        vertical-align: top;\n",
       "    }\n",
       "\n",
       "    .dataframe thead th {\n",
       "        text-align: right;\n",
       "    }\n",
       "</style>\n",
       "<table border=\"1\" class=\"dataframe\">\n",
       "  <thead>\n",
       "    <tr style=\"text-align: right;\">\n",
       "      <th></th>\n",
       "      <th>State</th>\n",
       "      <th>TotalSamples</th>\n",
       "      <th>Negative</th>\n",
       "      <th>Positive</th>\n",
       "    </tr>\n",
       "    <tr>\n",
       "      <th>Date</th>\n",
       "      <th></th>\n",
       "      <th></th>\n",
       "      <th></th>\n",
       "      <th></th>\n",
       "    </tr>\n",
       "  </thead>\n",
       "  <tbody>\n",
       "    <tr>\n",
       "      <th>2020-04-05</th>\n",
       "      <td>Maharashtra</td>\n",
       "      <td>16008.0</td>\n",
       "      <td>14837</td>\n",
       "      <td>0.0</td>\n",
       "    </tr>\n",
       "    <tr>\n",
       "      <th>2020-04-06</th>\n",
       "      <td>Maharashtra</td>\n",
       "      <td>17563.0</td>\n",
       "      <td>15808</td>\n",
       "      <td>868.0</td>\n",
       "    </tr>\n",
       "    <tr>\n",
       "      <th>2020-04-07</th>\n",
       "      <td>Maharashtra</td>\n",
       "      <td>20877.0</td>\n",
       "      <td>19290</td>\n",
       "      <td>1018.0</td>\n",
       "    </tr>\n",
       "    <tr>\n",
       "      <th>2020-04-09</th>\n",
       "      <td>Maharashtra</td>\n",
       "      <td>20877.0</td>\n",
       "      <td>19290</td>\n",
       "      <td>868.0</td>\n",
       "    </tr>\n",
       "    <tr>\n",
       "      <th>2020-04-10</th>\n",
       "      <td>Maharashtra</td>\n",
       "      <td>30000.0</td>\n",
       "      <td>28865</td>\n",
       "      <td>1135.0</td>\n",
       "    </tr>\n",
       "    <tr>\n",
       "      <th>...</th>\n",
       "      <td>...</td>\n",
       "      <td>...</td>\n",
       "      <td>...</td>\n",
       "      <td>...</td>\n",
       "    </tr>\n",
       "    <tr>\n",
       "      <th>2020-07-16</th>\n",
       "      <td>Maharashtra</td>\n",
       "      <td>1450129.0</td>\n",
       "      <td>1161433</td>\n",
       "      <td>288696.0</td>\n",
       "    </tr>\n",
       "    <tr>\n",
       "      <th>2020-07-17</th>\n",
       "      <td>Maharashtra</td>\n",
       "      <td>1487738.0</td>\n",
       "      <td>1190958</td>\n",
       "      <td>296780.0</td>\n",
       "    </tr>\n",
       "    <tr>\n",
       "      <th>2020-07-18</th>\n",
       "      <td>Maharashtra</td>\n",
       "      <td>1526037.0</td>\n",
       "      <td>1220496</td>\n",
       "      <td>305541.0</td>\n",
       "    </tr>\n",
       "    <tr>\n",
       "      <th>2020-07-19</th>\n",
       "      <td>Maharashtra</td>\n",
       "      <td>1568229.0</td>\n",
       "      <td>1252842</td>\n",
       "      <td>315387.0</td>\n",
       "    </tr>\n",
       "    <tr>\n",
       "      <th>2020-07-20</th>\n",
       "      <td>Maharashtra</td>\n",
       "      <td>1603802.0</td>\n",
       "      <td>1279592</td>\n",
       "      <td>324210.0</td>\n",
       "    </tr>\n",
       "  </tbody>\n",
       "</table>\n",
       "<p>105 rows × 4 columns</p>\n",
       "</div>"
      ],
      "text/plain": [
       "                  State  TotalSamples Negative  Positive\n",
       "Date                                                    \n",
       "2020-04-05  Maharashtra       16008.0    14837       0.0\n",
       "2020-04-06  Maharashtra       17563.0    15808     868.0\n",
       "2020-04-07  Maharashtra       20877.0    19290    1018.0\n",
       "2020-04-09  Maharashtra       20877.0    19290     868.0\n",
       "2020-04-10  Maharashtra       30000.0    28865    1135.0\n",
       "...                 ...           ...      ...       ...\n",
       "2020-07-16  Maharashtra     1450129.0  1161433  288696.0\n",
       "2020-07-17  Maharashtra     1487738.0  1190958  296780.0\n",
       "2020-07-18  Maharashtra     1526037.0  1220496  305541.0\n",
       "2020-07-19  Maharashtra     1568229.0  1252842  315387.0\n",
       "2020-07-20  Maharashtra     1603802.0  1279592  324210.0\n",
       "\n",
       "[105 rows x 4 columns]"
      ]
     },
     "execution_count": 191,
     "metadata": {},
     "output_type": "execute_result"
    }
   ],
   "source": [
    "new_df.fillna(0)"
   ]
  },
  {
   "cell_type": "code",
   "execution_count": 157,
   "metadata": {},
   "outputs": [],
   "source": [
    "new_df.set_index('Date', inplace = True)"
   ]
  },
  {
   "cell_type": "code",
   "execution_count": 199,
   "metadata": {},
   "outputs": [
    {
     "data": {
      "image/png": "[encoded data removed]",
      "text/plain": [
       "<Figure size 720x360 with 1 Axes>"
      ]
     },
     "metadata": {
      "needs_background": "light"
     },
     "output_type": "display_data"
    },
    {
     "data": {
      "text/plain": [
       "<Figure size 432x288 with 0 Axes>"
      ]
     },
     "metadata": {},
     "output_type": "display_data"
    }
   ],
   "source": [
    "plt.figure(figsize= (10,5))\n",
    "plt.xticks(rotation = 45 ,fontsize = 11)\n",
    "plt.yticks(fontsize = 10)\n",
    "plt.xlabel(\"Dates\",fontsize = 20)\n",
    "plt.ylabel('Total cases',fontsize = 20)\n",
    "plt.title('Karnataka Covid-19 Analyis', fontsize = 20)\n",
    "plt.yticks(np.arange(0, 3000000, 500000),np.arange(0,300000,50000))\n",
    "plt.plot(new_df['TotalSamples'], 'r--', label = \"Total Cases\")\n",
    "plt.plot(new_df['Positive'], 'g^', label = 'Positive Cases')\n",
    "plt.legend()\n",
    "plt.show();\n",
    "plt.savefig('line_plot.png')"
   ]
  },
  {
   "cell_type": "code",
   "execution_count": 168,
   "metadata": {},
   "outputs": [
    {
     "data": {
      "text/html": [
       "<div>\n",
       "<style scoped>\n",
       "    .dataframe tbody tr th:only-of-type {\n",
       "        vertical-align: middle;\n",
       "    }\n",
       "\n",
       "    .dataframe tbody tr th {\n",
       "        vertical-align: top;\n",
       "    }\n",
       "\n",
       "    .dataframe thead th {\n",
       "        text-align: right;\n",
       "    }\n",
       "</style>\n",
       "<table border=\"1\" class=\"dataframe\">\n",
       "  <thead>\n",
       "    <tr style=\"text-align: right;\">\n",
       "      <th></th>\n",
       "      <th>Date</th>\n",
       "      <th>TotalSamples</th>\n",
       "      <th>Negative</th>\n",
       "      <th>Positive</th>\n",
       "    </tr>\n",
       "    <tr>\n",
       "      <th>State</th>\n",
       "      <th></th>\n",
       "      <th></th>\n",
       "      <th></th>\n",
       "      <th></th>\n",
       "    </tr>\n",
       "  </thead>\n",
       "  <tbody>\n",
       "    <tr>\n",
       "      <th>Andaman and Nicobar Islands</th>\n",
       "      <td>2020-04-17</td>\n",
       "      <td>1403.0</td>\n",
       "      <td>1210</td>\n",
       "      <td>12.0</td>\n",
       "    </tr>\n",
       "    <tr>\n",
       "      <th>Andaman and Nicobar Islands</th>\n",
       "      <td>2020-04-24</td>\n",
       "      <td>2679.0</td>\n",
       "      <td>NaN</td>\n",
       "      <td>27.0</td>\n",
       "    </tr>\n",
       "    <tr>\n",
       "      <th>Andaman and Nicobar Islands</th>\n",
       "      <td>2020-04-27</td>\n",
       "      <td>2848.0</td>\n",
       "      <td>NaN</td>\n",
       "      <td>33.0</td>\n",
       "    </tr>\n",
       "    <tr>\n",
       "      <th>Andaman and Nicobar Islands</th>\n",
       "      <td>2020-05-01</td>\n",
       "      <td>3754.0</td>\n",
       "      <td>NaN</td>\n",
       "      <td>33.0</td>\n",
       "    </tr>\n",
       "    <tr>\n",
       "      <th>Andaman and Nicobar Islands</th>\n",
       "      <td>2020-05-16</td>\n",
       "      <td>6677.0</td>\n",
       "      <td>NaN</td>\n",
       "      <td>33.0</td>\n",
       "    </tr>\n",
       "  </tbody>\n",
       "</table>\n",
       "</div>"
      ],
      "text/plain": [
       "                                  Date  TotalSamples Negative  Positive\n",
       "State                                                                  \n",
       "Andaman and Nicobar Islands 2020-04-17        1403.0     1210      12.0\n",
       "Andaman and Nicobar Islands 2020-04-24        2679.0      NaN      27.0\n",
       "Andaman and Nicobar Islands 2020-04-27        2848.0      NaN      33.0\n",
       "Andaman and Nicobar Islands 2020-05-01        3754.0      NaN      33.0\n",
       "Andaman and Nicobar Islands 2020-05-16        6677.0      NaN      33.0"
      ]
     },
     "execution_count": 168,
     "metadata": {},
     "output_type": "execute_result"
    }
   ],
   "source": [
    "a_neighbours.set_index('State', inplace = True)\n",
    "a_neighbours.head()"
   ]
  },
  {
   "cell_type": "code",
   "execution_count": 169,
   "metadata": {},
   "outputs": [
    {
     "data": {
      "text/html": [
       "<div>\n",
       "<style scoped>\n",
       "    .dataframe tbody tr th:only-of-type {\n",
       "        vertical-align: middle;\n",
       "    }\n",
       "\n",
       "    .dataframe tbody tr th {\n",
       "        vertical-align: top;\n",
       "    }\n",
       "\n",
       "    .dataframe thead th {\n",
       "        text-align: right;\n",
       "    }\n",
       "</style>\n",
       "<table border=\"1\" class=\"dataframe\">\n",
       "  <thead>\n",
       "    <tr style=\"text-align: right;\">\n",
       "      <th></th>\n",
       "      <th>Date</th>\n",
       "      <th>TotalSamples</th>\n",
       "      <th>Negative</th>\n",
       "      <th>Positive</th>\n",
       "    </tr>\n",
       "    <tr>\n",
       "      <th>State</th>\n",
       "      <th></th>\n",
       "      <th></th>\n",
       "      <th></th>\n",
       "      <th></th>\n",
       "    </tr>\n",
       "  </thead>\n",
       "  <tbody>\n",
       "    <tr>\n",
       "      <th>Maharashtra</th>\n",
       "      <td>2020-04-05</td>\n",
       "      <td>16008.0</td>\n",
       "      <td>14837</td>\n",
       "      <td>NaN</td>\n",
       "    </tr>\n",
       "    <tr>\n",
       "      <th>Maharashtra</th>\n",
       "      <td>2020-04-06</td>\n",
       "      <td>17563.0</td>\n",
       "      <td>15808</td>\n",
       "      <td>868.0</td>\n",
       "    </tr>\n",
       "    <tr>\n",
       "      <th>Maharashtra</th>\n",
       "      <td>2020-04-07</td>\n",
       "      <td>20877.0</td>\n",
       "      <td>19290</td>\n",
       "      <td>1018.0</td>\n",
       "    </tr>\n",
       "    <tr>\n",
       "      <th>Maharashtra</th>\n",
       "      <td>2020-04-09</td>\n",
       "      <td>20877.0</td>\n",
       "      <td>19290</td>\n",
       "      <td>868.0</td>\n",
       "    </tr>\n",
       "    <tr>\n",
       "      <th>Maharashtra</th>\n",
       "      <td>2020-04-10</td>\n",
       "      <td>30000.0</td>\n",
       "      <td>28865</td>\n",
       "      <td>1135.0</td>\n",
       "    </tr>\n",
       "  </tbody>\n",
       "</table>\n",
       "</div>"
      ],
      "text/plain": [
       "                  Date  TotalSamples Negative  Positive\n",
       "State                                                  \n",
       "Maharashtra 2020-04-05       16008.0    14837       NaN\n",
       "Maharashtra 2020-04-06       17563.0    15808     868.0\n",
       "Maharashtra 2020-04-07       20877.0    19290    1018.0\n",
       "Maharashtra 2020-04-09       20877.0    19290     868.0\n",
       "Maharashtra 2020-04-10       30000.0    28865    1135.0"
      ]
     },
     "execution_count": 169,
     "metadata": {},
     "output_type": "execute_result"
    }
   ],
   "source": [
    "a_neighbours = a_neighbours.loc[['Maharashtra', 'Karnataka', 'Andhra Pradesh', 'Kerala', 'Tamil Nadu']]\n",
    "a_neighbours.head()"
   ]
  },
  {
   "cell_type": "code",
   "execution_count": 171,
   "metadata": {},
   "outputs": [],
   "source": [
    "a_neighbours.reset_index(inplace = True)"
   ]
  },
  {
   "cell_type": "code",
   "execution_count": 173,
   "metadata": {},
   "outputs": [
    {
     "data": {
      "text/plain": [
       "<pandas.core.groupby.generic.DataFrameGroupBy object at 0x7fb820912850>"
      ]
     },
     "execution_count": 173,
     "metadata": {},
     "output_type": "execute_result"
    }
   ],
   "source": [
    "a_neighbours.groupby('State')"
   ]
  },
  {
   "cell_type": "code",
   "execution_count": 179,
   "metadata": {},
   "outputs": [
    {
     "name": "stdout",
     "output_type": "stream",
     "text": [
      "<class 'pandas.core.frame.DataFrame'>\n",
      "Int64Index: 467 entries, 1 to 508\n",
      "Data columns (total 5 columns):\n",
      " #   Column        Non-Null Count  Dtype         \n",
      "---  ------        --------------  -----         \n",
      " 0   State         467 non-null    object        \n",
      " 1   Date          467 non-null    datetime64[ns]\n",
      " 2   TotalSamples  467 non-null    float64       \n",
      " 3   Negative      467 non-null    object        \n",
      " 4   Positive      467 non-null    float64       \n",
      "dtypes: datetime64[ns](1), float64(2), object(2)\n",
      "memory usage: 21.9+ KB\n"
     ]
    }
   ],
   "source": [
    "a_neighbours.dropna(inplace = True)\n",
    "a_neighbours.info()"
   ]
  },
  {
   "cell_type": "code",
   "execution_count": null,
   "metadata": {},
   "outputs": [],
   "source": []
  }
 ],
 "metadata": {
  "kernelspec": {
   "display_name": "Python 3",
   "language": "python",
   "name": "python3"
  },
  "language_info": {
   "codemirror_mode": {
    "name": "ipython",
    "version": 3
   },
   "file_extension": ".py",
   "mimetype": "text/x-python",
   "name": "python",
   "nbconvert_exporter": "python",
   "pygments_lexer": "ipython3",
   "version": "3.7.7"
  }
 },
 "nbformat": 4,
 "nbformat_minor": 4
}
